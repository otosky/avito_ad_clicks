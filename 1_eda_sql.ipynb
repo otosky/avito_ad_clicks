{
 "cells": [
  {
   "cell_type": "code",
   "execution_count": 1,
   "metadata": {},
   "outputs": [],
   "source": [
    "# SciPy imports\n",
    "%matplotlib inline\n",
    "import matplotlib.pyplot as plt\n",
    "import numpy as np\n",
    "import pandas as pd\n",
    "pd.set_option('display.max_columns', None)\n",
    "import seaborn as sns\n",
    "import pickle\n",
    "import datetime\n",
    "import random\n",
    "\n",
    "# Other necessary imports\n",
    "import sqlite3\n",
    "import ast\n",
    "from collections import defaultdict\n",
    "import pprint"
   ]
  },
  {
   "cell_type": "code",
   "execution_count": 2,
   "metadata": {},
   "outputs": [
    {
     "name": "stdout",
     "output_type": "stream",
     "text": [
      "Opened database successfully\n"
     ]
    }
   ],
   "source": [
    "conn = sqlite3.connect('database.sqlite')\n",
    "cursor = conn.cursor()\n",
    "print(\"Opened database successfully\")"
   ]
  },
  {
   "cell_type": "markdown",
   "metadata": {},
   "source": [
    "# EDA"
   ]
  },
  {
   "cell_type": "markdown",
   "metadata": {},
   "source": [
    "Let's get a brief overview of the data for the major tables:"
   ]
  },
  {
   "cell_type": "markdown",
   "metadata": {},
   "source": [
    "### table: SearchInfo"
   ]
  },
  {
   "cell_type": "code",
   "execution_count": 6,
   "metadata": {},
   "outputs": [
    {
     "data": {
      "text/html": [
       "<div>\n",
       "<style scoped>\n",
       "    .dataframe tbody tr th:only-of-type {\n",
       "        vertical-align: middle;\n",
       "    }\n",
       "\n",
       "    .dataframe tbody tr th {\n",
       "        vertical-align: top;\n",
       "    }\n",
       "\n",
       "    .dataframe thead th {\n",
       "        text-align: right;\n",
       "    }\n",
       "</style>\n",
       "<table border=\"1\" class=\"dataframe\">\n",
       "  <thead>\n",
       "    <tr style=\"text-align: right;\">\n",
       "      <th></th>\n",
       "      <th>SearchID</th>\n",
       "      <th>SearchDate</th>\n",
       "      <th>IPID</th>\n",
       "      <th>UserID</th>\n",
       "      <th>IsUserLoggedOn</th>\n",
       "      <th>SearchQuery</th>\n",
       "      <th>LocationID</th>\n",
       "      <th>CategoryID</th>\n",
       "      <th>SearchParams</th>\n",
       "    </tr>\n",
       "  </thead>\n",
       "  <tbody>\n",
       "    <tr>\n",
       "      <th>0</th>\n",
       "      <td>5604821</td>\n",
       "      <td>2015-04-25 00:00:00.0</td>\n",
       "      <td>2103665</td>\n",
       "      <td>469526</td>\n",
       "      <td>0</td>\n",
       "      <td></td>\n",
       "      <td>1261</td>\n",
       "      <td>34</td>\n",
       "      <td></td>\n",
       "    </tr>\n",
       "    <tr>\n",
       "      <th>1</th>\n",
       "      <td>13177673</td>\n",
       "      <td>2015-04-25 00:00:00.0</td>\n",
       "      <td>544882</td>\n",
       "      <td>2803738</td>\n",
       "      <td>0</td>\n",
       "      <td></td>\n",
       "      <td>3137</td>\n",
       "      <td>41</td>\n",
       "      <td>{143:'Samsung'}</td>\n",
       "    </tr>\n",
       "    <tr>\n",
       "      <th>2</th>\n",
       "      <td>18569679</td>\n",
       "      <td>2015-04-25 00:00:00.0</td>\n",
       "      <td>1150353</td>\n",
       "      <td>1215256</td>\n",
       "      <td>0</td>\n",
       "      <td></td>\n",
       "      <td>3960</td>\n",
       "      <td>22</td>\n",
       "      <td>{83:'Платья и юбки', 175:'Женская одежда', 90:...</td>\n",
       "    </tr>\n",
       "    <tr>\n",
       "      <th>3</th>\n",
       "      <td>30404777</td>\n",
       "      <td>2015-04-25 00:00:00.0</td>\n",
       "      <td>1069851</td>\n",
       "      <td>647606</td>\n",
       "      <td>1</td>\n",
       "      <td></td>\n",
       "      <td>1676</td>\n",
       "      <td>34</td>\n",
       "      <td></td>\n",
       "    </tr>\n",
       "    <tr>\n",
       "      <th>4</th>\n",
       "      <td>41191882</td>\n",
       "      <td>2015-04-25 00:00:00.0</td>\n",
       "      <td>292976</td>\n",
       "      <td>2177961</td>\n",
       "      <td>0</td>\n",
       "      <td></td>\n",
       "      <td>3771</td>\n",
       "      <td>60</td>\n",
       "      <td>{115:'74-80 см (7-12 мес)', 179:'Платья и юбки...</td>\n",
       "    </tr>\n",
       "  </tbody>\n",
       "</table>\n",
       "</div>"
      ],
      "text/plain": [
       "   SearchID             SearchDate     IPID   UserID  IsUserLoggedOn  \\\n",
       "0   5604821  2015-04-25 00:00:00.0  2103665   469526               0   \n",
       "1  13177673  2015-04-25 00:00:00.0   544882  2803738               0   \n",
       "2  18569679  2015-04-25 00:00:00.0  1150353  1215256               0   \n",
       "3  30404777  2015-04-25 00:00:00.0  1069851   647606               1   \n",
       "4  41191882  2015-04-25 00:00:00.0   292976  2177961               0   \n",
       "\n",
       "  SearchQuery  LocationID  CategoryID  \\\n",
       "0                    1261          34   \n",
       "1                    3137          41   \n",
       "2                    3960          22   \n",
       "3                    1676          34   \n",
       "4                    3771          60   \n",
       "\n",
       "                                        SearchParams  \n",
       "0                                                     \n",
       "1                                    {143:'Samsung'}  \n",
       "2  {83:'Платья и юбки', 175:'Женская одежда', 90:...  \n",
       "3                                                     \n",
       "4  {115:'74-80 см (7-12 мес)', 179:'Платья и юбки...  "
      ]
     },
     "execution_count": 6,
     "metadata": {},
     "output_type": "execute_result"
    }
   ],
   "source": [
    "# preview of SearchInfo table and schema, ordered by SearchDate ascending\n",
    "q = '''\n",
    "SELECT * FROM SearchInfo\n",
    "ORDER BY SearchDate\n",
    "LIMIT 5;\n",
    "'''\n",
    "%time pd.read_sql_query(q, conn)"
   ]
  },
  {
   "cell_type": "markdown",
   "metadata": {},
   "source": [
    "> When did the last search occur?"
   ]
  },
  {
   "cell_type": "code",
   "execution_count": 7,
   "metadata": {},
   "outputs": [
    {
     "data": {
      "text/html": [
       "<div>\n",
       "<style scoped>\n",
       "    .dataframe tbody tr th:only-of-type {\n",
       "        vertical-align: middle;\n",
       "    }\n",
       "\n",
       "    .dataframe tbody tr th {\n",
       "        vertical-align: top;\n",
       "    }\n",
       "\n",
       "    .dataframe thead th {\n",
       "        text-align: right;\n",
       "    }\n",
       "</style>\n",
       "<table border=\"1\" class=\"dataframe\">\n",
       "  <thead>\n",
       "    <tr style=\"text-align: right;\">\n",
       "      <th></th>\n",
       "      <th>MAX(SearchDate)</th>\n",
       "    </tr>\n",
       "  </thead>\n",
       "  <tbody>\n",
       "    <tr>\n",
       "      <th>0</th>\n",
       "      <td>2015-05-20 18:00:00.0</td>\n",
       "    </tr>\n",
       "  </tbody>\n",
       "</table>\n",
       "</div>"
      ],
      "text/plain": [
       "         MAX(SearchDate)\n",
       "0  2015-05-20 18:00:00.0"
      ]
     },
     "execution_count": 7,
     "metadata": {},
     "output_type": "execute_result"
    }
   ],
   "source": [
    "q = '''\n",
    "SELECT MAX(SearchDate) FROM SearchInfo;\n",
    "'''\n",
    "%time pd.read_sql_query(q, conn)"
   ]
  },
  {
   "cell_type": "markdown",
   "metadata": {},
   "source": [
    " > How many Searches occurred in our time window?"
   ]
  },
  {
   "cell_type": "code",
   "execution_count": 16,
   "metadata": {},
   "outputs": [
    {
     "data": {
      "text/html": [
       "<div>\n",
       "<style scoped>\n",
       "    .dataframe tbody tr th:only-of-type {\n",
       "        vertical-align: middle;\n",
       "    }\n",
       "\n",
       "    .dataframe tbody tr th {\n",
       "        vertical-align: top;\n",
       "    }\n",
       "\n",
       "    .dataframe thead th {\n",
       "        text-align: right;\n",
       "    }\n",
       "</style>\n",
       "<table border=\"1\" class=\"dataframe\">\n",
       "  <thead>\n",
       "    <tr style=\"text-align: right;\">\n",
       "      <th></th>\n",
       "      <th>Total Searches</th>\n",
       "    </tr>\n",
       "  </thead>\n",
       "  <tbody>\n",
       "    <tr>\n",
       "      <th>0</th>\n",
       "      <td>112159462</td>\n",
       "    </tr>\n",
       "  </tbody>\n",
       "</table>\n",
       "</div>"
      ],
      "text/plain": [
       "   Total Searches\n",
       "0       112159462"
      ]
     },
     "execution_count": 16,
     "metadata": {},
     "output_type": "execute_result"
    }
   ],
   "source": [
    "q = '''\n",
    "SELECT COUNT(DISTINCT(SearchID)) AS \"Total Searches\"\n",
    "FROM SearchInfo;\n",
    "'''\n",
    "%time pd.read_sql_query(q, conn)"
   ]
  },
  {
   "cell_type": "code",
   "execution_count": 18,
   "metadata": {},
   "outputs": [
    {
     "data": {
      "text/html": [
       "<div>\n",
       "<style scoped>\n",
       "    .dataframe tbody tr th:only-of-type {\n",
       "        vertical-align: middle;\n",
       "    }\n",
       "\n",
       "    .dataframe tbody tr th {\n",
       "        vertical-align: top;\n",
       "    }\n",
       "\n",
       "    .dataframe thead th {\n",
       "        text-align: right;\n",
       "    }\n",
       "</style>\n",
       "<table border=\"1\" class=\"dataframe\">\n",
       "  <thead>\n",
       "    <tr style=\"text-align: right;\">\n",
       "      <th></th>\n",
       "      <th>MIN(SearchID)</th>\n",
       "      <th>MAX(SearchID)</th>\n",
       "      <th>Total Rows</th>\n",
       "    </tr>\n",
       "  </thead>\n",
       "  <tbody>\n",
       "    <tr>\n",
       "      <th>0</th>\n",
       "      <td>1</td>\n",
       "      <td>113964820</td>\n",
       "      <td>112159462</td>\n",
       "    </tr>\n",
       "  </tbody>\n",
       "</table>\n",
       "</div>"
      ],
      "text/plain": [
       "   MIN(SearchID)  MAX(SearchID)  Total Rows\n",
       "0              1      113964820   112159462"
      ]
     },
     "execution_count": 18,
     "metadata": {},
     "output_type": "execute_result"
    }
   ],
   "source": [
    "# sanity check to ensure that SearchID is continuous and unique\n",
    "q = '''\n",
    "SELECT MIN(SearchID), MAX(SearchID), COUNT(*) AS \"Total Rows\"\n",
    "FROM SearchInfo;\n",
    "'''\n",
    "%time pd.read_sql_query(q, conn)"
   ]
  },
  {
   "cell_type": "markdown",
   "metadata": {},
   "source": [
    "Okay - that's good to know.  The range of SearchIDs for the SearchInfo table is **not** continuous.  The MAX SearchID is greater than the number of rows, so there must be some SearchIDs between \\#1 - \\#113,964,820 missing."
   ]
  },
  {
   "cell_type": "markdown",
   "metadata": {},
   "source": [
    "### table: UserInfo"
   ]
  },
  {
   "cell_type": "code",
   "execution_count": 9,
   "metadata": {},
   "outputs": [
    {
     "data": {
      "text/html": [
       "<div>\n",
       "<style scoped>\n",
       "    .dataframe tbody tr th:only-of-type {\n",
       "        vertical-align: middle;\n",
       "    }\n",
       "\n",
       "    .dataframe tbody tr th {\n",
       "        vertical-align: top;\n",
       "    }\n",
       "\n",
       "    .dataframe thead th {\n",
       "        text-align: right;\n",
       "    }\n",
       "</style>\n",
       "<table border=\"1\" class=\"dataframe\">\n",
       "  <thead>\n",
       "    <tr style=\"text-align: right;\">\n",
       "      <th></th>\n",
       "      <th>UserID</th>\n",
       "      <th>UserAgentID</th>\n",
       "      <th>UserAgentOSID</th>\n",
       "      <th>UserDeviceID</th>\n",
       "      <th>UserAgentFamilyID</th>\n",
       "    </tr>\n",
       "  </thead>\n",
       "  <tbody>\n",
       "    <tr>\n",
       "      <th>0</th>\n",
       "      <td>1</td>\n",
       "      <td>44073</td>\n",
       "      <td>30</td>\n",
       "      <td>2019</td>\n",
       "      <td>9</td>\n",
       "    </tr>\n",
       "    <tr>\n",
       "      <th>1</th>\n",
       "      <td>2</td>\n",
       "      <td>12505</td>\n",
       "      <td>20</td>\n",
       "      <td>2014</td>\n",
       "      <td>85</td>\n",
       "    </tr>\n",
       "    <tr>\n",
       "      <th>2</th>\n",
       "      <td>3</td>\n",
       "      <td>24256</td>\n",
       "      <td>20</td>\n",
       "      <td>2014</td>\n",
       "      <td>64</td>\n",
       "    </tr>\n",
       "    <tr>\n",
       "      <th>3</th>\n",
       "      <td>4</td>\n",
       "      <td>57133</td>\n",
       "      <td>20</td>\n",
       "      <td>2014</td>\n",
       "      <td>25</td>\n",
       "    </tr>\n",
       "    <tr>\n",
       "      <th>4</th>\n",
       "      <td>5</td>\n",
       "      <td>57133</td>\n",
       "      <td>20</td>\n",
       "      <td>2014</td>\n",
       "      <td>25</td>\n",
       "    </tr>\n",
       "  </tbody>\n",
       "</table>\n",
       "</div>"
      ],
      "text/plain": [
       "   UserID  UserAgentID  UserAgentOSID  UserDeviceID  UserAgentFamilyID\n",
       "0       1        44073             30          2019                  9\n",
       "1       2        12505             20          2014                 85\n",
       "2       3        24256             20          2014                 64\n",
       "3       4        57133             20          2014                 25\n",
       "4       5        57133             20          2014                 25"
      ]
     },
     "execution_count": 9,
     "metadata": {},
     "output_type": "execute_result"
    }
   ],
   "source": [
    "# preview of trainSearchStream table and schema\n",
    "q = '''\n",
    "SELECT * FROM UserInfo\n",
    "LIMIT 5;\n",
    "'''\n",
    "%time pd.read_sql_query(q, conn)"
   ]
  },
  {
   "cell_type": "markdown",
   "metadata": {},
   "source": [
    "> How many distinct Users are there in our dataset?"
   ]
  },
  {
   "cell_type": "code",
   "execution_count": 13,
   "metadata": {},
   "outputs": [
    {
     "data": {
      "text/html": [
       "<div>\n",
       "<style scoped>\n",
       "    .dataframe tbody tr th:only-of-type {\n",
       "        vertical-align: middle;\n",
       "    }\n",
       "\n",
       "    .dataframe tbody tr th {\n",
       "        vertical-align: top;\n",
       "    }\n",
       "\n",
       "    .dataframe thead th {\n",
       "        text-align: right;\n",
       "    }\n",
       "</style>\n",
       "<table border=\"1\" class=\"dataframe\">\n",
       "  <thead>\n",
       "    <tr style=\"text-align: right;\">\n",
       "      <th></th>\n",
       "      <th>Total Users</th>\n",
       "    </tr>\n",
       "  </thead>\n",
       "  <tbody>\n",
       "    <tr>\n",
       "      <th>0</th>\n",
       "      <td>4284823</td>\n",
       "    </tr>\n",
       "  </tbody>\n",
       "</table>\n",
       "</div>"
      ],
      "text/plain": [
       "   Total Users\n",
       "0      4284823"
      ]
     },
     "execution_count": 13,
     "metadata": {},
     "output_type": "execute_result"
    }
   ],
   "source": [
    "q = '''\n",
    "SELECT COUNT(DISTINCT(UserID)) AS \"Total Users\" FROM UserInfo;\n",
    "'''\n",
    "%time pd.read_sql_query(q, conn)"
   ]
  },
  {
   "cell_type": "markdown",
   "metadata": {},
   "source": [
    "> What does the distribution of Searches Per User look like?"
   ]
  },
  {
   "cell_type": "code",
   "execution_count": 12,
   "metadata": {},
   "outputs": [
    {
     "name": "stdout",
     "output_type": "stream",
     "text": [
      "CPU times: user 2min 21s, sys: 1min 51s, total: 4min 12s\n",
      "Wall time: 10min 45s\n"
     ]
    }
   ],
   "source": [
    "q = '''\n",
    "SELECT UserID, COUNT(DISTINCT(SearchID)) AS \"Num_Searches\"\n",
    "FROM SearchInfo\n",
    "GROUP BY UserID;\n",
    "'''\n",
    "\n",
    "%time user_search_distribution = pd.read_sql_query(q, conn)"
   ]
  },
  {
   "cell_type": "code",
   "execution_count": 15,
   "metadata": {},
   "outputs": [
    {
     "data": {
      "text/plain": [
       "count    4.295465e+06\n",
       "mean     2.611113e+01\n",
       "std      9.623540e+01\n",
       "min      1.000000e+00\n",
       "25%      1.000000e+00\n",
       "50%      5.000000e+00\n",
       "75%      1.700000e+01\n",
       "max      2.322800e+04\n",
       "Name: Num_Searches, dtype: float64"
      ]
     },
     "execution_count": 15,
     "metadata": {},
     "output_type": "execute_result"
    }
   ],
   "source": [
    "user_search_distribution['Num_Searches'].describe()"
   ]
  },
  {
   "cell_type": "code",
   "execution_count": 31,
   "metadata": {},
   "outputs": [
    {
     "data": {
      "image/png": "[encoded data removed]",
      "text/plain": [
       "<Figure size 720x576 with 1 Axes>"
      ]
     },
     "metadata": {
      "needs_background": "light"
     },
     "output_type": "display_data"
    }
   ],
   "source": [
    "# annotate line as 'y=1'\n",
    "plt.figure(figsize=(10,8))\n",
    "n, bins, patches = plt.hist(user_search_distribution['Num_Searches'], bins=100, log=True, color='b')\n",
    "patches[0].set_fc('orange')\n",
    "plt.axhline(1)\n",
    "plt.title('Distribution of Total Searches Per User')\n",
    "plt.xlabel('Total Searches')\n",
    "plt.ylabel('Counts - Log Scale')\n",
    "plt.show()"
   ]
  },
  {
   "cell_type": "markdown",
   "metadata": {},
   "source": [
    "That one outlier seems pretty suspicious - could be a bot."
   ]
  },
  {
   "cell_type": "code",
   "execution_count": 72,
   "metadata": {},
   "outputs": [
    {
     "data": {
      "image/png": "[encoded data removed]",
      "text/plain": [
       "<Figure size 1080x576 with 2 Axes>"
      ]
     },
     "metadata": {
      "needs_background": "light"
     },
     "output_type": "display_data"
    }
   ],
   "source": [
    "fig, (ax1, ax2) = plt.subplots(1, 2, figsize=(15,8))\n",
    "n, bins, patches = ax1.hist(user_search_distribution['Num_Searches'], bins=100, range=(1,9000), log=True, color='b')\n",
    "ax1.title.set_text('Number of Searches per User - Outlier Removed')\n",
    "ax1.set(xlabel='Total Searches', ylabel='Counts - Log Scale')\n",
    "\n",
    "n, bins, patches = ax2.hist(user_search_distribution['Num_Searches'], bins=100, range=(1,100), log=False, color='b')\n",
    "for i in patches[0:4]:\n",
    "    i.set_fc('orange')\n",
    "ax2.axvline(user_search_distribution['Num_Searches'].median())\n",
    "ax2.title.set_text('Most Users Have Less Than 5 Total Searches')\n",
    "ax2.set(xlabel='Total Searches', ylabel='Counts')\n",
    "plt.show()\n",
    "# annotate line to say 'x=5'"
   ]
  },
  {
   "cell_type": "markdown",
   "metadata": {},
   "source": [
    "### table: trainSearchStream"
   ]
  },
  {
   "cell_type": "code",
   "execution_count": 20,
   "metadata": {},
   "outputs": [
    {
     "data": {
      "text/html": [
       "<div>\n",
       "<style scoped>\n",
       "    .dataframe tbody tr th:only-of-type {\n",
       "        vertical-align: middle;\n",
       "    }\n",
       "\n",
       "    .dataframe tbody tr th {\n",
       "        vertical-align: top;\n",
       "    }\n",
       "\n",
       "    .dataframe thead th {\n",
       "        text-align: right;\n",
       "    }\n",
       "</style>\n",
       "<table border=\"1\" class=\"dataframe\">\n",
       "  <thead>\n",
       "    <tr style=\"text-align: right;\">\n",
       "      <th></th>\n",
       "      <th>SearchID</th>\n",
       "      <th>AdID</th>\n",
       "      <th>Position</th>\n",
       "      <th>ObjectType</th>\n",
       "      <th>HistCTR</th>\n",
       "      <th>IsClick</th>\n",
       "    </tr>\n",
       "  </thead>\n",
       "  <tbody>\n",
       "    <tr>\n",
       "      <th>0</th>\n",
       "      <td>2</td>\n",
       "      <td>11441863</td>\n",
       "      <td>1</td>\n",
       "      <td>3</td>\n",
       "      <td>0.001804</td>\n",
       "      <td>0</td>\n",
       "    </tr>\n",
       "    <tr>\n",
       "      <th>1</th>\n",
       "      <td>2</td>\n",
       "      <td>22968355</td>\n",
       "      <td>7</td>\n",
       "      <td>3</td>\n",
       "      <td>0.004723</td>\n",
       "      <td>0</td>\n",
       "    </tr>\n",
       "    <tr>\n",
       "      <th>2</th>\n",
       "      <td>3</td>\n",
       "      <td>212187</td>\n",
       "      <td>7</td>\n",
       "      <td>3</td>\n",
       "      <td>0.029701</td>\n",
       "      <td>0</td>\n",
       "    </tr>\n",
       "    <tr>\n",
       "      <th>3</th>\n",
       "      <td>3</td>\n",
       "      <td>34084553</td>\n",
       "      <td>1</td>\n",
       "      <td>3</td>\n",
       "      <td>0.0043</td>\n",
       "      <td>0</td>\n",
       "    </tr>\n",
       "    <tr>\n",
       "      <th>4</th>\n",
       "      <td>3</td>\n",
       "      <td>36256251</td>\n",
       "      <td>2</td>\n",
       "      <td>2</td>\n",
       "      <td></td>\n",
       "      <td></td>\n",
       "    </tr>\n",
       "    <tr>\n",
       "      <th>5</th>\n",
       "      <td>4</td>\n",
       "      <td>2073399</td>\n",
       "      <td>6</td>\n",
       "      <td>1</td>\n",
       "      <td></td>\n",
       "      <td></td>\n",
       "    </tr>\n",
       "    <tr>\n",
       "      <th>6</th>\n",
       "      <td>4</td>\n",
       "      <td>6046052</td>\n",
       "      <td>7</td>\n",
       "      <td>1</td>\n",
       "      <td></td>\n",
       "      <td></td>\n",
       "    </tr>\n",
       "    <tr>\n",
       "      <th>7</th>\n",
       "      <td>4</td>\n",
       "      <td>17544913</td>\n",
       "      <td>8</td>\n",
       "      <td>1</td>\n",
       "      <td></td>\n",
       "      <td></td>\n",
       "    </tr>\n",
       "    <tr>\n",
       "      <th>8</th>\n",
       "      <td>4</td>\n",
       "      <td>20653823</td>\n",
       "      <td>1</td>\n",
       "      <td>3</td>\n",
       "      <td>0.003049</td>\n",
       "      <td>0</td>\n",
       "    </tr>\n",
       "    <tr>\n",
       "      <th>9</th>\n",
       "      <td>4</td>\n",
       "      <td>24129570</td>\n",
       "      <td>2</td>\n",
       "      <td>2</td>\n",
       "      <td></td>\n",
       "      <td></td>\n",
       "    </tr>\n",
       "  </tbody>\n",
       "</table>\n",
       "</div>"
      ],
      "text/plain": [
       "   SearchID      AdID  Position  ObjectType   HistCTR IsClick\n",
       "0         2  11441863         1           3  0.001804       0\n",
       "1         2  22968355         7           3  0.004723       0\n",
       "2         3    212187         7           3  0.029701       0\n",
       "3         3  34084553         1           3    0.0043       0\n",
       "4         3  36256251         2           2                  \n",
       "5         4   2073399         6           1                  \n",
       "6         4   6046052         7           1                  \n",
       "7         4  17544913         8           1                  \n",
       "8         4  20653823         1           3  0.003049       0\n",
       "9         4  24129570         2           2                  "
      ]
     },
     "execution_count": 20,
     "metadata": {},
     "output_type": "execute_result"
    }
   ],
   "source": [
    "# preview of trainSearchStream table and schema\n",
    "q = '''\n",
    "SELECT * FROM trainSearchStream\n",
    "LIMIT 10;\n",
    "'''\n",
    "pd.read_sql_query(q, conn)"
   ]
  },
  {
   "cell_type": "markdown",
   "metadata": {},
   "source": [
    "We notice here that some of the column values for IsClick are NULL.  The data notes from Kaggle inform you that only Context Ads have class labels for IsClick.  Context Ads are denoted as ObjectType 3."
   ]
  },
  {
   "cell_type": "code",
   "execution_count": 21,
   "metadata": {},
   "outputs": [
    {
     "data": {
      "text/html": [
       "<div>\n",
       "<style scoped>\n",
       "    .dataframe tbody tr th:only-of-type {\n",
       "        vertical-align: middle;\n",
       "    }\n",
       "\n",
       "    .dataframe tbody tr th {\n",
       "        vertical-align: top;\n",
       "    }\n",
       "\n",
       "    .dataframe thead th {\n",
       "        text-align: right;\n",
       "    }\n",
       "</style>\n",
       "<table border=\"1\" class=\"dataframe\">\n",
       "  <thead>\n",
       "    <tr style=\"text-align: right;\">\n",
       "      <th></th>\n",
       "      <th>SUM(IsClick)</th>\n",
       "    </tr>\n",
       "  </thead>\n",
       "  <tbody>\n",
       "    <tr>\n",
       "      <th>0</th>\n",
       "      <td>0.0</td>\n",
       "    </tr>\n",
       "    <tr>\n",
       "      <th>1</th>\n",
       "      <td>0.0</td>\n",
       "    </tr>\n",
       "  </tbody>\n",
       "</table>\n",
       "</div>"
      ],
      "text/plain": [
       "   SUM(IsClick)\n",
       "0           0.0\n",
       "1           0.0"
      ]
     },
     "execution_count": 21,
     "metadata": {},
     "output_type": "execute_result"
    }
   ],
   "source": [
    "# sanity check to verify that ObjectType 1 & 2 lack IsClick classification\n",
    "q = '''\n",
    "SELECT ObjectType, SUM(IsClick) FROM TrainSearchStream\n",
    "WHERE ObjectType=1 OR ObjectType=2\n",
    "GROUP BY ObjectType;\n",
    "'''\n",
    "\n",
    "%time pd.read_sql_query(q, conn)"
   ]
  },
  {
   "cell_type": "markdown",
   "metadata": {},
   "source": [
    "> How many total impressions were there in the Training Set?"
   ]
  },
  {
   "cell_type": "code",
   "execution_count": 73,
   "metadata": {},
   "outputs": [
    {
     "data": {
      "text/html": [
       "<div>\n",
       "<style scoped>\n",
       "    .dataframe tbody tr th:only-of-type {\n",
       "        vertical-align: middle;\n",
       "    }\n",
       "\n",
       "    .dataframe tbody tr th {\n",
       "        vertical-align: top;\n",
       "    }\n",
       "\n",
       "    .dataframe thead th {\n",
       "        text-align: right;\n",
       "    }\n",
       "</style>\n",
       "<table border=\"1\" class=\"dataframe\">\n",
       "  <thead>\n",
       "    <tr style=\"text-align: right;\">\n",
       "      <th></th>\n",
       "      <th>COUNT(*)</th>\n",
       "    </tr>\n",
       "  </thead>\n",
       "  <tbody>\n",
       "    <tr>\n",
       "      <th>0</th>\n",
       "      <td>392356948</td>\n",
       "    </tr>\n",
       "  </tbody>\n",
       "</table>\n",
       "</div>"
      ],
      "text/plain": [
       "    COUNT(*)\n",
       "0  392356948"
      ]
     },
     "execution_count": 73,
     "metadata": {},
     "output_type": "execute_result"
    }
   ],
   "source": [
    "q = '''\n",
    "SELECT COUNT(*) AS \"Total Impressions\" FROM TrainSearchStream;\n",
    "'''\n",
    "%time pd.read_sql_query(q, conn)"
   ]
  },
  {
   "cell_type": "markdown",
   "metadata": {},
   "source": [
    "> What is the Class Balance like for 'IsClick' in this dataset?  \n",
    "\n",
    "> How many clicks were there total?  \n",
    "\n",
    "> How many Context Ad impresssions were served?"
   ]
  },
  {
   "cell_type": "code",
   "execution_count": 76,
   "metadata": {},
   "outputs": [
    {
     "data": {
      "text/html": [
       "<div>\n",
       "<style scoped>\n",
       "    .dataframe tbody tr th:only-of-type {\n",
       "        vertical-align: middle;\n",
       "    }\n",
       "\n",
       "    .dataframe tbody tr th {\n",
       "        vertical-align: top;\n",
       "    }\n",
       "\n",
       "    .dataframe thead th {\n",
       "        text-align: right;\n",
       "    }\n",
       "</style>\n",
       "<table border=\"1\" class=\"dataframe\">\n",
       "  <thead>\n",
       "    <tr style=\"text-align: right;\">\n",
       "      <th></th>\n",
       "      <th>Total Click Through Rate</th>\n",
       "      <th>Total Clicks</th>\n",
       "      <th>Total Context Ad Impressions</th>\n",
       "    </tr>\n",
       "  </thead>\n",
       "  <tbody>\n",
       "    <tr>\n",
       "      <th>0</th>\n",
       "      <td>0.006028</td>\n",
       "      <td>1146289</td>\n",
       "      <td>190157735</td>\n",
       "    </tr>\n",
       "  </tbody>\n",
       "</table>\n",
       "</div>"
      ],
      "text/plain": [
       "   Total Click Through Rate  Total Clicks  Total Context Ad Impressions\n",
       "0                  0.006028       1146289                     190157735"
      ]
     },
     "execution_count": 76,
     "metadata": {},
     "output_type": "execute_result"
    }
   ],
   "source": [
    "q = '''\n",
    "SELECT (CAST(SUM(IsClick) AS FLOAT) / COUNT(IsClick)) AS \"Total Click Through Rate\",\n",
    "       SUM(IsClick) AS \"Total Clicks\", \n",
    "       COUNT(IsClick) AS \"Total Context Ad Impressions\"\n",
    "FROM TrainSearchStream\n",
    "WHERE ObjectType=3;\n",
    "'''\n",
    "%time pd.read_sql_query(q, conn)"
   ]
  },
  {
   "cell_type": "markdown",
   "metadata": {},
   "source": [
    "You might have known this intuitively, but now let's put it out in the open:"
   ]
  },
  {
   "cell_type": "markdown",
   "metadata": {},
   "source": [
    "### In Click-Prediction problems, your classes are gonna be WAY imbalanced.  \n",
    "\n",
    "*Virtually no one clicks on ads, in our case -* **a little over half of a percent of impressions ever got clicked.**"
   ]
  },
  {
   "cell_type": "markdown",
   "metadata": {},
   "source": [
    "> On what date did the last Search occur for TrainSearchStream?"
   ]
  },
  {
   "cell_type": "code",
   "execution_count": 6,
   "metadata": {},
   "outputs": [
    {
     "name": "stdout",
     "output_type": "stream",
     "text": [
      "CPU times: user 2min 6s, sys: 4min 13s, total: 6min 19s\n",
      "Wall time: 20min 23s\n"
     ]
    },
    {
     "data": {
      "text/html": [
       "<div>\n",
       "<style scoped>\n",
       "    .dataframe tbody tr th:only-of-type {\n",
       "        vertical-align: middle;\n",
       "    }\n",
       "\n",
       "    .dataframe tbody tr th {\n",
       "        vertical-align: top;\n",
       "    }\n",
       "\n",
       "    .dataframe thead th {\n",
       "        text-align: right;\n",
       "    }\n",
       "</style>\n",
       "<table border=\"1\" class=\"dataframe\">\n",
       "  <thead>\n",
       "    <tr style=\"text-align: right;\">\n",
       "      <th></th>\n",
       "      <th>SearchID</th>\n",
       "      <th>SearchDate</th>\n",
       "    </tr>\n",
       "  </thead>\n",
       "  <tbody>\n",
       "    <tr>\n",
       "      <th>0</th>\n",
       "      <td>108053000</td>\n",
       "      <td>2015-05-20 17:59:55.0</td>\n",
       "    </tr>\n",
       "    <tr>\n",
       "      <th>1</th>\n",
       "      <td>108053000</td>\n",
       "      <td>2015-05-20 17:59:55.0</td>\n",
       "    </tr>\n",
       "    <tr>\n",
       "      <th>2</th>\n",
       "      <td>108053000</td>\n",
       "      <td>2015-05-20 17:59:55.0</td>\n",
       "    </tr>\n",
       "    <tr>\n",
       "      <th>3</th>\n",
       "      <td>81843230</td>\n",
       "      <td>2015-05-20 17:59:51.0</td>\n",
       "    </tr>\n",
       "    <tr>\n",
       "      <th>4</th>\n",
       "      <td>81843230</td>\n",
       "      <td>2015-05-20 17:59:51.0</td>\n",
       "    </tr>\n",
       "    <tr>\n",
       "      <th>5</th>\n",
       "      <td>81843230</td>\n",
       "      <td>2015-05-20 17:59:51.0</td>\n",
       "    </tr>\n",
       "    <tr>\n",
       "      <th>6</th>\n",
       "      <td>92209219</td>\n",
       "      <td>2015-05-20 17:59:51.0</td>\n",
       "    </tr>\n",
       "    <tr>\n",
       "      <th>7</th>\n",
       "      <td>92209219</td>\n",
       "      <td>2015-05-20 17:59:51.0</td>\n",
       "    </tr>\n",
       "    <tr>\n",
       "      <th>8</th>\n",
       "      <td>92209219</td>\n",
       "      <td>2015-05-20 17:59:51.0</td>\n",
       "    </tr>\n",
       "    <tr>\n",
       "      <th>9</th>\n",
       "      <td>33148528</td>\n",
       "      <td>2015-05-20 17:59:49.0</td>\n",
       "    </tr>\n",
       "    <tr>\n",
       "      <th>10</th>\n",
       "      <td>33148528</td>\n",
       "      <td>2015-05-20 17:59:49.0</td>\n",
       "    </tr>\n",
       "    <tr>\n",
       "      <th>11</th>\n",
       "      <td>33148528</td>\n",
       "      <td>2015-05-20 17:59:49.0</td>\n",
       "    </tr>\n",
       "    <tr>\n",
       "      <th>12</th>\n",
       "      <td>29027173</td>\n",
       "      <td>2015-05-20 17:59:46.0</td>\n",
       "    </tr>\n",
       "    <tr>\n",
       "      <th>13</th>\n",
       "      <td>29027173</td>\n",
       "      <td>2015-05-20 17:59:46.0</td>\n",
       "    </tr>\n",
       "    <tr>\n",
       "      <th>14</th>\n",
       "      <td>63197278</td>\n",
       "      <td>2015-05-20 17:59:46.0</td>\n",
       "    </tr>\n",
       "  </tbody>\n",
       "</table>\n",
       "</div>"
      ],
      "text/plain": [
       "     SearchID             SearchDate\n",
       "0   108053000  2015-05-20 17:59:55.0\n",
       "1   108053000  2015-05-20 17:59:55.0\n",
       "2   108053000  2015-05-20 17:59:55.0\n",
       "3    81843230  2015-05-20 17:59:51.0\n",
       "4    81843230  2015-05-20 17:59:51.0\n",
       "5    81843230  2015-05-20 17:59:51.0\n",
       "6    92209219  2015-05-20 17:59:51.0\n",
       "7    92209219  2015-05-20 17:59:51.0\n",
       "8    92209219  2015-05-20 17:59:51.0\n",
       "9    33148528  2015-05-20 17:59:49.0\n",
       "10   33148528  2015-05-20 17:59:49.0\n",
       "11   33148528  2015-05-20 17:59:49.0\n",
       "12   29027173  2015-05-20 17:59:46.0\n",
       "13   29027173  2015-05-20 17:59:46.0\n",
       "14   63197278  2015-05-20 17:59:46.0"
      ]
     },
     "execution_count": 6,
     "metadata": {},
     "output_type": "execute_result"
    }
   ],
   "source": [
    "q = '''\n",
    "SELECT s.SearchID, s.SearchDate \n",
    "FROM (  SELECT SearchID, SearchDate\n",
    "        FROM SearchInfo\n",
    "        ORDER BY SearchDate DESC) AS s\n",
    "JOIN TrainSearchStream AS tss\n",
    "ON tss.SearchID = s.SearchID\n",
    "LIMIT 15;\n",
    "'''\n",
    "\n",
    "%time pd.read_sql_query(q, conn)"
   ]
  },
  {
   "cell_type": "code",
   "execution_count": 8,
   "metadata": {},
   "outputs": [
    {
     "name": "stdout",
     "output_type": "stream",
     "text": [
      "CPU times: user 27 s, sys: 1min 19s, total: 1min 46s\n",
      "Wall time: 7min 13s\n"
     ]
    },
    {
     "data": {
      "text/html": [
       "<div>\n",
       "<style scoped>\n",
       "    .dataframe tbody tr th:only-of-type {\n",
       "        vertical-align: middle;\n",
       "    }\n",
       "\n",
       "    .dataframe tbody tr th {\n",
       "        vertical-align: top;\n",
       "    }\n",
       "\n",
       "    .dataframe thead th {\n",
       "        text-align: right;\n",
       "    }\n",
       "</style>\n",
       "<table border=\"1\" class=\"dataframe\">\n",
       "  <thead>\n",
       "    <tr style=\"text-align: right;\">\n",
       "      <th></th>\n",
       "      <th>SearchID</th>\n",
       "      <th>SearchDate</th>\n",
       "    </tr>\n",
       "  </thead>\n",
       "  <tbody>\n",
       "    <tr>\n",
       "      <th>0</th>\n",
       "      <td>15084095</td>\n",
       "      <td>2015-05-12 00:00:00.0</td>\n",
       "    </tr>\n",
       "    <tr>\n",
       "      <th>1</th>\n",
       "      <td>15084095</td>\n",
       "      <td>2015-05-12 00:00:00.0</td>\n",
       "    </tr>\n",
       "    <tr>\n",
       "      <th>2</th>\n",
       "      <td>27330066</td>\n",
       "      <td>2015-05-12 00:00:00.0</td>\n",
       "    </tr>\n",
       "    <tr>\n",
       "      <th>3</th>\n",
       "      <td>27330066</td>\n",
       "      <td>2015-05-12 00:00:00.0</td>\n",
       "    </tr>\n",
       "    <tr>\n",
       "      <th>4</th>\n",
       "      <td>27330066</td>\n",
       "      <td>2015-05-12 00:00:00.0</td>\n",
       "    </tr>\n",
       "    <tr>\n",
       "      <th>5</th>\n",
       "      <td>38632965</td>\n",
       "      <td>2015-05-12 00:00:00.0</td>\n",
       "    </tr>\n",
       "    <tr>\n",
       "      <th>6</th>\n",
       "      <td>38632965</td>\n",
       "      <td>2015-05-12 00:00:00.0</td>\n",
       "    </tr>\n",
       "    <tr>\n",
       "      <th>7</th>\n",
       "      <td>38632965</td>\n",
       "      <td>2015-05-12 00:00:00.0</td>\n",
       "    </tr>\n",
       "    <tr>\n",
       "      <th>8</th>\n",
       "      <td>50492707</td>\n",
       "      <td>2015-05-12 00:00:00.0</td>\n",
       "    </tr>\n",
       "    <tr>\n",
       "      <th>9</th>\n",
       "      <td>50492707</td>\n",
       "      <td>2015-05-12 00:00:00.0</td>\n",
       "    </tr>\n",
       "    <tr>\n",
       "      <th>10</th>\n",
       "      <td>50492707</td>\n",
       "      <td>2015-05-12 00:00:00.0</td>\n",
       "    </tr>\n",
       "    <tr>\n",
       "      <th>11</th>\n",
       "      <td>52704979</td>\n",
       "      <td>2015-05-12 00:00:00.0</td>\n",
       "    </tr>\n",
       "    <tr>\n",
       "      <th>12</th>\n",
       "      <td>52704979</td>\n",
       "      <td>2015-05-12 00:00:00.0</td>\n",
       "    </tr>\n",
       "    <tr>\n",
       "      <th>13</th>\n",
       "      <td>72304729</td>\n",
       "      <td>2015-05-12 00:00:00.0</td>\n",
       "    </tr>\n",
       "    <tr>\n",
       "      <th>14</th>\n",
       "      <td>72304729</td>\n",
       "      <td>2015-05-12 00:00:00.0</td>\n",
       "    </tr>\n",
       "  </tbody>\n",
       "</table>\n",
       "</div>"
      ],
      "text/plain": [
       "    SearchID             SearchDate\n",
       "0   15084095  2015-05-12 00:00:00.0\n",
       "1   15084095  2015-05-12 00:00:00.0\n",
       "2   27330066  2015-05-12 00:00:00.0\n",
       "3   27330066  2015-05-12 00:00:00.0\n",
       "4   27330066  2015-05-12 00:00:00.0\n",
       "5   38632965  2015-05-12 00:00:00.0\n",
       "6   38632965  2015-05-12 00:00:00.0\n",
       "7   38632965  2015-05-12 00:00:00.0\n",
       "8   50492707  2015-05-12 00:00:00.0\n",
       "9   50492707  2015-05-12 00:00:00.0\n",
       "10  50492707  2015-05-12 00:00:00.0\n",
       "11  52704979  2015-05-12 00:00:00.0\n",
       "12  52704979  2015-05-12 00:00:00.0\n",
       "13  72304729  2015-05-12 00:00:00.0\n",
       "14  72304729  2015-05-12 00:00:00.0"
      ]
     },
     "execution_count": 8,
     "metadata": {},
     "output_type": "execute_result"
    }
   ],
   "source": [
    "q = '''\n",
    "SELECT s.SearchID, s.SearchDate \n",
    "FROM (  SELECT SearchID, SearchDate\n",
    "        FROM SearchInfo\n",
    "        ORDER BY SearchDate ASC) AS s\n",
    "JOIN TestSearchStream AS tss\n",
    "ON tss.SearchID = s.SearchID\n",
    "LIMIT 15;\n",
    "'''\n",
    "%time pd.read_sql_query(q, conn)"
   ]
  },
  {
   "cell_type": "markdown",
   "metadata": {},
   "source": [
    "> We can see here that the cutoff for Train/Test is **not** date-specific.  It will be easier to exclude the SearchInfo searches that yielded Test Set impressions by creating a new subset table of SearchInfo, with the SearchIDs of TestStreamSearch removed."
   ]
  },
  {
   "cell_type": "markdown",
   "metadata": {},
   "source": [
    "### tables: AdsInfo & Category"
   ]
  },
  {
   "cell_type": "code",
   "execution_count": 78,
   "metadata": {},
   "outputs": [
    {
     "data": {
      "text/html": [
       "<div>\n",
       "<style scoped>\n",
       "    .dataframe tbody tr th:only-of-type {\n",
       "        vertical-align: middle;\n",
       "    }\n",
       "\n",
       "    .dataframe tbody tr th {\n",
       "        vertical-align: top;\n",
       "    }\n",
       "\n",
       "    .dataframe thead th {\n",
       "        text-align: right;\n",
       "    }\n",
       "</style>\n",
       "<table border=\"1\" class=\"dataframe\">\n",
       "  <thead>\n",
       "    <tr style=\"text-align: right;\">\n",
       "      <th></th>\n",
       "      <th>AdID</th>\n",
       "      <th>LocationID</th>\n",
       "      <th>CategoryID</th>\n",
       "      <th>Params</th>\n",
       "      <th>Price</th>\n",
       "      <th>Title</th>\n",
       "      <th>IsContext</th>\n",
       "    </tr>\n",
       "  </thead>\n",
       "  <tbody>\n",
       "    <tr>\n",
       "      <th>0</th>\n",
       "      <td>1</td>\n",
       "      <td>343</td>\n",
       "      <td>43</td>\n",
       "      <td>{1283:'С пробегом', 633:'Синий', 1159:0, 210:'...</td>\n",
       "      <td>160000</td>\n",
       "      <td>Toyota Estima, 1993</td>\n",
       "      <td>0</td>\n",
       "    </tr>\n",
       "    <tr>\n",
       "      <th>1</th>\n",
       "      <td>2</td>\n",
       "      <td>992</td>\n",
       "      <td>34</td>\n",
       "      <td>{817:'Кузов', 5:'Запчасти', 598:'Для автомобил...</td>\n",
       "      <td>750</td>\n",
       "      <td>Передние брызговики Форд Фокус 2 родные</td>\n",
       "      <td>0</td>\n",
       "    </tr>\n",
       "    <tr>\n",
       "      <th>2</th>\n",
       "      <td>3</td>\n",
       "      <td>3771</td>\n",
       "      <td>53</td>\n",
       "      <td>{181:'Промышленное'}</td>\n",
       "      <td>18000</td>\n",
       "      <td>Дровокол</td>\n",
       "      <td>0</td>\n",
       "    </tr>\n",
       "    <tr>\n",
       "      <th>3</th>\n",
       "      <td>4</td>\n",
       "      <td>4294</td>\n",
       "      <td>57</td>\n",
       "      <td>{130:'Приборы и аксессуары'}</td>\n",
       "      <td>1500</td>\n",
       "      <td>Продам ходули складные</td>\n",
       "      <td>0</td>\n",
       "    </tr>\n",
       "    <tr>\n",
       "      <th>4</th>\n",
       "      <td>5</td>\n",
       "      <td>1344</td>\n",
       "      <td>34</td>\n",
       "      <td>{817:'Автосвет', 5:'Запчасти', 598:'Для автомо...</td>\n",
       "      <td>800</td>\n",
       "      <td>Поворотник R - Carina (20317)</td>\n",
       "      <td>0</td>\n",
       "    </tr>\n",
       "  </tbody>\n",
       "</table>\n",
       "</div>"
      ],
      "text/plain": [
       "   AdID  LocationID  CategoryID  \\\n",
       "0     1         343          43   \n",
       "1     2         992          34   \n",
       "2     3        3771          53   \n",
       "3     4        4294          57   \n",
       "4     5        1344          34   \n",
       "\n",
       "                                              Params   Price  \\\n",
       "0  {1283:'С пробегом', 633:'Синий', 1159:0, 210:'...  160000   \n",
       "1  {817:'Кузов', 5:'Запчасти', 598:'Для автомобил...     750   \n",
       "2                               {181:'Промышленное'}   18000   \n",
       "3                       {130:'Приборы и аксессуары'}    1500   \n",
       "4  {817:'Автосвет', 5:'Запчасти', 598:'Для автомо...     800   \n",
       "\n",
       "                                     Title  IsContext  \n",
       "0                      Toyota Estima, 1993          0  \n",
       "1  Передние брызговики Форд Фокус 2 родные          0  \n",
       "2                                 Дровокол          0  \n",
       "3                   Продам ходули складные          0  \n",
       "4            Поворотник R - Carina (20317)          0  "
      ]
     },
     "execution_count": 78,
     "metadata": {},
     "output_type": "execute_result"
    }
   ],
   "source": [
    "# preview of AdsInfo table and schema\n",
    "q = '''\n",
    "SELECT * FROM AdsInfo\n",
    "LIMIT 5;\n",
    "'''\n",
    "pd.read_sql_query(q, conn)"
   ]
  },
  {
   "cell_type": "code",
   "execution_count": 11,
   "metadata": {},
   "outputs": [
    {
     "name": "stdout",
     "output_type": "stream",
     "text": [
      "CPU times: user 28.8 s, sys: 8.17 s, total: 37 s\n",
      "Wall time: 45.1 s\n"
     ]
    },
    {
     "data": {
      "text/html": [
       "<div>\n",
       "<style scoped>\n",
       "    .dataframe tbody tr th:only-of-type {\n",
       "        vertical-align: middle;\n",
       "    }\n",
       "\n",
       "    .dataframe tbody tr th {\n",
       "        vertical-align: top;\n",
       "    }\n",
       "\n",
       "    .dataframe thead th {\n",
       "        text-align: right;\n",
       "    }\n",
       "</style>\n",
       "<table border=\"1\" class=\"dataframe\">\n",
       "  <thead>\n",
       "    <tr style=\"text-align: right;\">\n",
       "      <th></th>\n",
       "      <th>Total Ads</th>\n",
       "      <th>MAX(AdID)</th>\n",
       "      <th>Total Context Ads</th>\n",
       "      <th>Context Ad %age</th>\n",
       "    </tr>\n",
       "  </thead>\n",
       "  <tbody>\n",
       "    <tr>\n",
       "      <th>0</th>\n",
       "      <td>36893298</td>\n",
       "      <td>36893298</td>\n",
       "      <td>28570</td>\n",
       "      <td>0.000774</td>\n",
       "    </tr>\n",
       "  </tbody>\n",
       "</table>\n",
       "</div>"
      ],
      "text/plain": [
       "   Total Ads  MAX(AdID)  Total Context Ads  Context Ad %age\n",
       "0   36893298   36893298              28570         0.000774"
      ]
     },
     "execution_count": 11,
     "metadata": {},
     "output_type": "execute_result"
    }
   ],
   "source": [
    "q = '''\n",
    "SELECT COUNT(DISTINCT(AdID)) AS \"Total Ads\", \n",
    "       MAX(AdID), \n",
    "       SUM(IsContext) AS \"Total Context Ads\",\n",
    "       CAST(SUM(IsContext) AS FLOAT)/COUNT(DISTINCT(AdID)) AS \"Context Ad %age\"\n",
    "FROM AdsInfo;\n",
    "'''\n",
    "%time pd.read_sql_query(q, conn)"
   ]
  },
  {
   "cell_type": "markdown",
   "metadata": {},
   "source": [
    "> Which Ads got the most Phone Requests and Page Visits?  (Note these details are only available for the Non-Context Ads)"
   ]
  },
  {
   "cell_type": "code",
   "execution_count": 14,
   "metadata": {},
   "outputs": [
    {
     "name": "stdout",
     "output_type": "stream",
     "text": [
      "CPU times: user 1min 55s, sys: 13.3 s, total: 2min 8s\n",
      "Wall time: 2min 18s\n"
     ]
    },
    {
     "data": {
      "text/html": [
       "<div>\n",
       "<style scoped>\n",
       "    .dataframe tbody tr th:only-of-type {\n",
       "        vertical-align: middle;\n",
       "    }\n",
       "\n",
       "    .dataframe tbody tr th {\n",
       "        vertical-align: top;\n",
       "    }\n",
       "\n",
       "    .dataframe thead th {\n",
       "        text-align: right;\n",
       "    }\n",
       "</style>\n",
       "<table border=\"1\" class=\"dataframe\">\n",
       "  <thead>\n",
       "    <tr style=\"text-align: right;\">\n",
       "      <th></th>\n",
       "      <th>AdID</th>\n",
       "      <th>Page_Visits</th>\n",
       "      <th>Phone_Requests</th>\n",
       "      <th>Total_Looksies</th>\n",
       "      <th>Title</th>\n",
       "      <th>Price</th>\n",
       "      <th>CategoryID</th>\n",
       "    </tr>\n",
       "  </thead>\n",
       "  <tbody>\n",
       "    <tr>\n",
       "      <th>0</th>\n",
       "      <td>35635728</td>\n",
       "      <td>81814</td>\n",
       "      <td>3</td>\n",
       "      <td>81817</td>\n",
       "      <td>ВАЗ 2110, 2011</td>\n",
       "      <td>300000</td>\n",
       "      <td>43</td>\n",
       "    </tr>\n",
       "    <tr>\n",
       "      <th>1</th>\n",
       "      <td>28675022</td>\n",
       "      <td>31427</td>\n",
       "      <td>1</td>\n",
       "      <td>31428</td>\n",
       "      <td>Услуги сантехника на дом в астрахани</td>\n",
       "      <td>0</td>\n",
       "      <td>250005</td>\n",
       "    </tr>\n",
       "    <tr>\n",
       "      <th>2</th>\n",
       "      <td>25183213</td>\n",
       "      <td>9389</td>\n",
       "      <td>7469</td>\n",
       "      <td>16858</td>\n",
       "      <td>Audi 80, 1990</td>\n",
       "      <td>95000</td>\n",
       "      <td>43</td>\n",
       "    </tr>\n",
       "    <tr>\n",
       "      <th>3</th>\n",
       "      <td>9914685</td>\n",
       "      <td>9109</td>\n",
       "      <td>7279</td>\n",
       "      <td>16388</td>\n",
       "      <td>Citroen C3, 2010</td>\n",
       "      <td>390000</td>\n",
       "      <td>43</td>\n",
       "    </tr>\n",
       "    <tr>\n",
       "      <th>4</th>\n",
       "      <td>34510166</td>\n",
       "      <td>8793</td>\n",
       "      <td>7299</td>\n",
       "      <td>16092</td>\n",
       "      <td>FAW V2 1.3 МТ</td>\n",
       "      <td>347500</td>\n",
       "      <td>43</td>\n",
       "    </tr>\n",
       "    <tr>\n",
       "      <th>5</th>\n",
       "      <td>18998643</td>\n",
       "      <td>14762</td>\n",
       "      <td>9</td>\n",
       "      <td>14771</td>\n",
       "      <td>Услуги грузчиков и транспорта в Ярославле</td>\n",
       "      <td>100</td>\n",
       "      <td>250005</td>\n",
       "    </tr>\n",
       "    <tr>\n",
       "      <th>6</th>\n",
       "      <td>12409259</td>\n",
       "      <td>7995</td>\n",
       "      <td>6485</td>\n",
       "      <td>14480</td>\n",
       "      <td>Opel Omega, 1989</td>\n",
       "      <td>0</td>\n",
       "      <td>43</td>\n",
       "    </tr>\n",
       "    <tr>\n",
       "      <th>7</th>\n",
       "      <td>14965571</td>\n",
       "      <td>7611</td>\n",
       "      <td>6168</td>\n",
       "      <td>13779</td>\n",
       "      <td>Dodge Caliber, 2011</td>\n",
       "      <td>682500</td>\n",
       "      <td>43</td>\n",
       "    </tr>\n",
       "    <tr>\n",
       "      <th>8</th>\n",
       "      <td>1819699</td>\n",
       "      <td>6800</td>\n",
       "      <td>5373</td>\n",
       "      <td>12173</td>\n",
       "      <td>Отдам в хорошие руки</td>\n",
       "      <td>70000</td>\n",
       "      <td>43</td>\n",
       "    </tr>\n",
       "    <tr>\n",
       "      <th>9</th>\n",
       "      <td>15004312</td>\n",
       "      <td>3599</td>\n",
       "      <td>2860</td>\n",
       "      <td>6459</td>\n",
       "      <td>Nissan March, 2007</td>\n",
       "      <td>250000</td>\n",
       "      <td>43</td>\n",
       "    </tr>\n",
       "  </tbody>\n",
       "</table>\n",
       "</div>"
      ],
      "text/plain": [
       "       AdID  Page_Visits  Phone_Requests  Total_Looksies  \\\n",
       "0  35635728        81814               3           81817   \n",
       "1  28675022        31427               1           31428   \n",
       "2  25183213         9389            7469           16858   \n",
       "3   9914685         9109            7279           16388   \n",
       "4  34510166         8793            7299           16092   \n",
       "5  18998643        14762               9           14771   \n",
       "6  12409259         7995            6485           14480   \n",
       "7  14965571         7611            6168           13779   \n",
       "8   1819699         6800            5373           12173   \n",
       "9  15004312         3599            2860            6459   \n",
       "\n",
       "                                       Title   Price  CategoryID  \n",
       "0                             ВАЗ 2110, 2011  300000          43  \n",
       "1       Услуги сантехника на дом в астрахани       0      250005  \n",
       "2                              Audi 80, 1990   95000          43  \n",
       "3                           Citroen C3, 2010  390000          43  \n",
       "4                              FAW V2 1.3 МТ  347500          43  \n",
       "5  Услуги грузчиков и транспорта в Ярославле     100      250005  \n",
       "6                           Opel Omega, 1989       0          43  \n",
       "7                        Dodge Caliber, 2011  682500          43  \n",
       "8                       Отдам в хорошие руки   70000          43  \n",
       "9                         Nissan March, 2007  250000          43  "
      ]
     },
     "execution_count": 14,
     "metadata": {},
     "output_type": "execute_result"
    }
   ],
   "source": [
    "q = '''\n",
    "WITH v AS (\n",
    "    SELECT AdID, COUNT(*) AS \"Page_Visits\"\n",
    "    FROM VisitsStream\n",
    "    GROUP BY AdID\n",
    "),\n",
    "    pr AS (\n",
    "    SELECT AdID, COUNT(*) AS \"Phone_Requests\"\n",
    "    FROM PhoneRequestsStream\n",
    "    GROUP BY AdID\n",
    ")\n",
    "\n",
    "SELECT top10VisitedAds.AdID, Page_Visits, \n",
    "       Phone_Requests, Total_Looksies, \n",
    "       Title, Price, CategoryID\n",
    "FROM\n",
    "    (SELECT AdID, Page_Visits, Phone_Requests, Page_Visits+Phone_Requests AS Total_Looksies\n",
    "    FROM v\n",
    "    LEFT JOIN pr USING(AdID)\n",
    "    UNION ALL\n",
    "    SELECT AdID, Page_Visits, Phone_Requests, Page_Visits+Phone_Requests AS Total_Looksies\n",
    "    FROM pr\n",
    "    LEFT JOIN v USING(AdID)\n",
    "    WHERE v.AdID IS NULL\n",
    "    ORDER BY Total_Looksies DESC\n",
    "    LIMIT 10) top10VisitedAds\n",
    "JOIN AdsInfo a\n",
    "ON top10VisitedAds.AdID = a.AdID\n",
    "'''\n",
    "%time pd.read_sql_query(q, conn)"
   ]
  },
  {
   "cell_type": "markdown",
   "metadata": {},
   "source": [
    "> Which Ads got the most Clicks?"
   ]
  },
  {
   "cell_type": "code",
   "execution_count": null,
   "metadata": {},
   "outputs": [],
   "source": [
    "q='''\n",
    "WITH top_clicks AS (\n",
    "    SELECT AdID, COUNT(IsClick) AS Clicks\n",
    "    FROM trainSearchStream tss\n",
    "    WHERE IsClick=1\n",
    "    GROUP BY AdID\n",
    "    ORDER BY Clicks DESC\n",
    "    LIMIT 10\n",
    ")\n",
    "\n",
    "SELECT t.AdID, Title, Clicks, CategoryID, Price\n",
    "FROM top_clicks t\n",
    "JOIN AdsInfo a\n",
    "ON t.AdID = a.AdID;\n",
    "'''\n",
    "%time pd.read_sql_query(q, conn)"
   ]
  },
  {
   "cell_type": "markdown",
   "metadata": {},
   "source": [
    "# Summary"
   ]
  },
  {
   "cell_type": "markdown",
   "metadata": {},
   "source": [
    "- Timeframe between 4/25/15 - 5/20/15\n",
    "\n",
    "**Search Related:**\n",
    "- 112,159,462 Searches\n",
    "\n",
    "**Impression Related:**\n",
    "- 392,356,948 Impressions Served\n",
    "\n",
    "- 190,157,735 Impresssions were Context Ads\n",
    "\n",
    "- 0.6028% of Context Ads were clicked\n",
    "\n",
    "- 36,893,298 Distinct Ads (Only .0774% are Context Ads)\n",
    "\n",
    "**User Related:**\n",
    "- 4,284,823 Users\n",
    "\n",
    "- Median Number of Searches Per User is 5\n",
    "\n",
    "- Interquartile range for Searches Per User is 1 - 17 Searches\n"
   ]
  },
  {
   "cell_type": "markdown",
   "metadata": {},
   "source": [
    "## Addendum: Setting Indexes"
   ]
  },
  {
   "cell_type": "markdown",
   "metadata": {},
   "source": [
    "**Note:** these are compiled in batch_create_tables.py\n",
    "    \n",
    "It will save you some time to just run them all together overnight.  *See README.md for instructions.*"
   ]
  },
  {
   "cell_type": "code",
   "execution_count": 3,
   "metadata": {},
   "outputs": [
    {
     "data": {
      "text/plain": [
       "<sqlite3.Cursor at 0x1a2fe36d50>"
      ]
     },
     "execution_count": 3,
     "metadata": {},
     "output_type": "execute_result"
    }
   ],
   "source": [
    "q = '''\n",
    "CREATE INDEX AdID_Index ON VisitsStream(AdID);\n",
    "\n",
    "CREATE INDEX AdID_Index2 ON PhoneRequestsStream(AdID);\n",
    "'''\n",
    "#cursor.executescript(q)"
   ]
  },
  {
   "cell_type": "code",
   "execution_count": 4,
   "metadata": {},
   "outputs": [
    {
     "data": {
      "text/plain": [
       "<sqlite3.Cursor at 0x1a2fe36d50>"
      ]
     },
     "execution_count": 4,
     "metadata": {},
     "output_type": "execute_result"
    }
   ],
   "source": [
    "script = '''\n",
    "\n",
    "-- SQLite doesn't have a way to add a primary key to an already created table.\n",
    "-- If you look at the schema of these tables before having done any alterations, \n",
    "-- you'll notice that they have some errors.  This re-creation of the tables with \n",
    "-- primary keys relieves that issue.\n",
    "\n",
    "ALTER TABLE trainSearchStream RENAME TO old_tss;\n",
    "\n",
    "CREATE TABLE trainSearchStream\n",
    "    (\n",
    "    SearchID INTEGER,\n",
    "    AdID INTEGER,\n",
    "    Position INTEGER,\n",
    "    ObjectType INTEGER,\n",
    "    HistCTR REAL,\n",
    "    IsClick INTEGER,\n",
    "    PRIMARY KEY (SearchID, AdID)\n",
    "    );\n",
    "\n",
    "INSERT INTO trainSearchStream \n",
    "    SELECT * FROM old_tss;\n",
    " \n",
    "DROP TABLE old_tss;\n",
    "\n",
    "ALTER TABLE SearchInfo RENAME TO old_si;\n",
    "\n",
    "CREATE TABLE SearchInfo\n",
    "    (\n",
    "    SearchID INTEGER PRIMARY KEY,\n",
    "    SearchDate DATETIME,\n",
    "    IPID INTEGER,\n",
    "    UserID INTEGER,\n",
    "    IsUserLoggedOn INTEGER,\n",
    "    SearchQuery,\n",
    "    LocationID INTEGER,\n",
    "    CategoryID INTEGER,\n",
    "    SearchParams\n",
    "    );\n",
    "\n",
    "INSERT INTO SearchInfo\n",
    "    SELECT * FROM old_si;\n",
    " \n",
    "DROP TABLE old_si;\n",
    "\n",
    "-- Create another index on AdID for trainSearchStream\n",
    "\n",
    "CREATE INDEX AdID_Index_tss ON trainSearchStream(AdID, SearchID);\n",
    "'''\n",
    "#cursor.executescript(script)"
   ]
  },
  {
   "cell_type": "code",
   "execution_count": 4,
   "metadata": {},
   "outputs": [
    {
     "name": "stdout",
     "output_type": "stream",
     "text": [
      "CPU times: user 5min 46s, sys: 4min 22s, total: 10min 9s\n",
      "Wall time: 23min\n"
     ]
    },
    {
     "data": {
      "text/plain": [
       "<sqlite3.Cursor at 0x1a2e897730>"
      ]
     },
     "execution_count": 4,
     "metadata": {},
     "output_type": "execute_result"
    }
   ],
   "source": [
    "# creates table of Searches that omits SearchIDs with impressions in the testSearchStream\n",
    "# we have less use for them since those impressions don't have IsClick labels\n",
    "q = '''\n",
    "CREATE TABLE SearchInfo2\n",
    "    (\n",
    "    SearchID INTEGER PRIMARY KEY,\n",
    "    SearchDate DATETIME,\n",
    "    IPID INTEGER,\n",
    "    UserID INTEGER,\n",
    "    IsUserLoggedOn INTEGER,\n",
    "    SearchQuery,\n",
    "    LocationID INTEGER,\n",
    "    CategoryID INTEGER,\n",
    "    SearchParams\n",
    "    );\n",
    "\n",
    "INSERT INTO SearchInfo2\n",
    "    SELECT * FROM SearchInfo\n",
    "    WHERE SearchID NOT IN (\n",
    "        SELECT SearchID \n",
    "        FROM TestSearchStream);\n",
    "\n",
    "CREATE INDEX User_index ON SearchInfo2(UserID);\n",
    "'''\n",
    "#%time cursor.executescript(q)"
   ]
  },
  {
   "cell_type": "markdown",
   "metadata": {},
   "source": [
    "#### Sanity Check"
   ]
  },
  {
   "cell_type": "markdown",
   "metadata": {},
   "source": [
    "SearchInfo2 should yield fewer SearchIDs than stock SearchInfo"
   ]
  },
  {
   "cell_type": "code",
   "execution_count": 9,
   "metadata": {},
   "outputs": [
    {
     "name": "stdout",
     "output_type": "stream",
     "text": [
      "CPU times: user 23.6 s, sys: 1min 4s, total: 1min 28s\n",
      "Wall time: 5min 30s\n"
     ]
    },
    {
     "data": {
      "text/html": [
       "<div>\n",
       "<style scoped>\n",
       "    .dataframe tbody tr th:only-of-type {\n",
       "        vertical-align: middle;\n",
       "    }\n",
       "\n",
       "    .dataframe tbody tr th {\n",
       "        vertical-align: top;\n",
       "    }\n",
       "\n",
       "    .dataframe thead th {\n",
       "        text-align: right;\n",
       "    }\n",
       "</style>\n",
       "<table border=\"1\" class=\"dataframe\">\n",
       "  <thead>\n",
       "    <tr style=\"text-align: right;\">\n",
       "      <th></th>\n",
       "      <th>COUNT(SearchID)</th>\n",
       "    </tr>\n",
       "  </thead>\n",
       "  <tbody>\n",
       "    <tr>\n",
       "      <th>0</th>\n",
       "      <td>112159462</td>\n",
       "    </tr>\n",
       "  </tbody>\n",
       "</table>\n",
       "</div>"
      ],
      "text/plain": [
       "   COUNT(SearchID)\n",
       "0        112159462"
      ]
     },
     "execution_count": 9,
     "metadata": {},
     "output_type": "execute_result"
    }
   ],
   "source": [
    "q = '''\n",
    "SELECT COUNT(SearchID)\n",
    "FROM SearchInfo;\n",
    "'''\n",
    "%time pd.read_sql_query(q, conn)"
   ]
  },
  {
   "cell_type": "code",
   "execution_count": 10,
   "metadata": {},
   "outputs": [
    {
     "name": "stdout",
     "output_type": "stream",
     "text": [
      "CPU times: user 31 s, sys: 1min 30s, total: 2min 1s\n",
      "Wall time: 7min 25s\n"
     ]
    },
    {
     "data": {
      "text/html": [
       "<div>\n",
       "<style scoped>\n",
       "    .dataframe tbody tr th:only-of-type {\n",
       "        vertical-align: middle;\n",
       "    }\n",
       "\n",
       "    .dataframe tbody tr th {\n",
       "        vertical-align: top;\n",
       "    }\n",
       "\n",
       "    .dataframe thead th {\n",
       "        text-align: right;\n",
       "    }\n",
       "</style>\n",
       "<table border=\"1\" class=\"dataframe\">\n",
       "  <thead>\n",
       "    <tr style=\"text-align: right;\">\n",
       "      <th></th>\n",
       "      <th>COUNT(SearchID)</th>\n",
       "    </tr>\n",
       "  </thead>\n",
       "  <tbody>\n",
       "    <tr>\n",
       "      <th>0</th>\n",
       "      <td>107863985</td>\n",
       "    </tr>\n",
       "  </tbody>\n",
       "</table>\n",
       "</div>"
      ],
      "text/plain": [
       "   COUNT(SearchID)\n",
       "0        107863985"
      ]
     },
     "execution_count": 10,
     "metadata": {},
     "output_type": "execute_result"
    }
   ],
   "source": [
    "q = '''\n",
    "SELECT COUNT(SearchID)\n",
    "FROM SearchInfo2;\n",
    "'''\n",
    "%time pd.read_sql_query(q, conn)"
   ]
  },
  {
   "cell_type": "markdown",
   "metadata": {},
   "source": [
    "FURTHER READING\n",
    "- https://www.sqlitetutorial.net/sqlite-full-outer-join/\n",
    "- https://modern-sql.com/feature/with\n",
    "- https://medium.com/@JasonWyatt/squeezing-performance-from-sqlite-indexes-indexes-c4e175f3c346\n"
   ]
  },
  {
   "cell_type": "markdown",
   "metadata": {},
   "source": [
    "### Kaggle:"
   ]
  },
  {
   "cell_type": "code",
   "execution_count": 3,
   "metadata": {},
   "outputs": [
    {
     "name": "stdout",
     "output_type": "stream",
     "text": [
      "CPU times: user 1min 12s, sys: 2min 54s, total: 4min 7s\n",
      "Wall time: 14min 2s\n"
     ]
    },
    {
     "data": {
      "text/plain": [
       "<sqlite3.Cursor at 0x1a27df8500>"
      ]
     },
     "execution_count": 3,
     "metadata": {},
     "output_type": "execute_result"
    }
   ],
   "source": [
    "# creates test_set that you would make predictions on with final model\n",
    "# this script is also compiled in batch_create_tables.py\n",
    "q = '''\n",
    "CREATE TABLE test_merged AS\n",
    "\n",
    "SELECT i.*, s.*, a.*\n",
    "FROM testSearchStream i\n",
    "JOIN SearchInfo s\n",
    "    ON s.SearchID = i.SearchID\n",
    "JOIN AdsInfo a\n",
    "    ON a.AdID = i.AdID\n",
    "WHERE ObjectType = 3;\n",
    "'''\n",
    "#%time cursor.executescript(q)"
   ]
  }
 ],
 "metadata": {
  "kernelspec": {
   "display_name": "Python 3",
   "language": "python",
   "name": "python3"
  },
  "language_info": {
   "codemirror_mode": {
    "name": "ipython",
    "version": 3
   },
   "file_extension": ".py",
   "mimetype": "text/x-python",
   "name": "python",
   "nbconvert_exporter": "python",
   "pygments_lexer": "ipython3",
   "version": "3.7.3"
  }
 },
 "nbformat": 4,
 "nbformat_minor": 2
}
